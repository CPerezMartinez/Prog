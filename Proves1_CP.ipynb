{
  "nbformat": 4,
  "nbformat_minor": 0,
  "metadata": {
    "colab": {
      "provenance": [],
      "authorship_tag": "ABX9TyOwU5fCNvPcqtkX5ND0hLdN",
      "include_colab_link": true
    },
    "kernelspec": {
      "name": "python3",
      "display_name": "Python 3"
    },
    "language_info": {
      "name": "python"
    }
  },
  "cells": [
    {
      "cell_type": "markdown",
      "metadata": {
        "id": "view-in-github",
        "colab_type": "text"
      },
      "source": [
        "<a href=\"https://colab.research.google.com/github/CPerezMartinez/prog/blob/prog/Proves1_CP.ipynb\" target=\"_parent\"><img src=\"https://colab.research.google.com/assets/colab-badge.svg\" alt=\"Open In Colab\"/></a>"
      ]
    },
    {
      "cell_type": "code",
      "execution_count": null,
      "metadata": {
        "colab": {
          "base_uri": "https://localhost:8080/"
        },
        "id": "uhD4mMJdjRV-",
        "outputId": "e1f5ead7-297b-49cc-c165-f9103906ab72"
      },
      "outputs": [
        {
          "output_type": "stream",
          "name": "stdout",
          "text": [
            "7\n"
          ]
        }
      ],
      "source": [
        "dies_de_la_setmana=7 #dies\n",
        "print(dies_de_la_setmana)"
      ]
    },
    {
      "cell_type": "markdown",
      "source": [
        "1. Un fabricant ven 48 cuines a 93 € una. Cobra 37 euros pel transport. Quant haurà cobrat en total?"
      ],
      "metadata": {
        "id": "vWZONAJbmCVp"
      }
    },
    {
      "cell_type": "code",
      "source": [
        "fabricant=48 #cuines\n",
        "preu=93 #euros\n",
        "transport=37 #euros\n",
        "print((preu+transport)*fabricant)\n"
      ],
      "metadata": {
        "colab": {
          "base_uri": "https://localhost:8080/"
        },
        "id": "KoDxGgoJkoaH",
        "outputId": "b68b0270-83d3-4d31-9c24-597974da0191"
      },
      "execution_count": null,
      "outputs": [
        {
          "output_type": "stream",
          "name": "stdout",
          "text": [
            "6240\n"
          ]
        }
      ]
    },
    {
      "cell_type": "markdown",
      "source": [
        "2. En una guardiola hi ha 120 euros; en una altra hi ha 215 i en una tercera 163. Si repartim els\n",
        "euros entre 6 persones, quants en toquen a cada una?"
      ],
      "metadata": {
        "id": "LxocLXFIoASU"
      }
    },
    {
      "cell_type": "code",
      "source": [
        "guardiola_u=120 #euros\n",
        "guardiola_dos=215 #euros\n",
        "guardiola_tres=163 #euros\n",
        "persones=6 #persones\n",
        "print((guardiola_u+guardiola_dos+guardiola_tres)/persones)"
      ],
      "metadata": {
        "colab": {
          "base_uri": "https://localhost:8080/"
        },
        "id": "NFXgojmplb9X",
        "outputId": "35b13c4b-6b42-4191-b176-135e3db711ea"
      },
      "execution_count": null,
      "outputs": [
        {
          "output_type": "stream",
          "name": "stdout",
          "text": [
            "83.0\n"
          ]
        }
      ]
    },
    {
      "cell_type": "markdown",
      "source": [
        "3. Una castanyera tenia 250 castanyes torrades. Si en ven 17 dotzenes i a més treu 9 castanyes\n",
        "cremades, quantes li'n queden per vendre?"
      ],
      "metadata": {
        "id": "WT7eqBPnoodi"
      }
    },
    {
      "cell_type": "code",
      "source": [
        "castanyera=250 #castanyes\n",
        "ven=(17*12) #castanyes\n",
        "cremades=9 #castanyes\n",
        "print(castanyera-ven-cremades)"
      ],
      "metadata": {
        "colab": {
          "base_uri": "https://localhost:8080/"
        },
        "id": "_aOC7S86onxR",
        "outputId": "7703970c-ce76-4a9e-f221-5768ec36d846"
      },
      "execution_count": null,
      "outputs": [
        {
          "output_type": "stream",
          "name": "stdout",
          "text": [
            "37\n"
          ]
        }
      ]
    },
    {
      "cell_type": "markdown",
      "source": [
        "4. Un ramader va guanyar en un any 2.850 euros ; va guardar-se'n 700, i amb la resta va comprar 5\n",
        "vaques. Quants euros val cada vaca?"
      ],
      "metadata": {
        "id": "-kV3kywOpBtW"
      }
    },
    {
      "cell_type": "code",
      "source": [
        "guanya_un_any=2850 #euros\n",
        "guarda=700 #euros\n",
        "compra=5 #vaques\n",
        "print((guanya_un_any-guarda)/compra)"
      ],
      "metadata": {
        "colab": {
          "base_uri": "https://localhost:8080/"
        },
        "id": "lZKnnBaxpAiW",
        "outputId": "2be0aebd-1f73-4a3c-9ff3-2e667916038a"
      },
      "execution_count": null,
      "outputs": [
        {
          "output_type": "stream",
          "name": "stdout",
          "text": [
            "430.0\n"
          ]
        }
      ]
    },
    {
      "cell_type": "markdown",
      "source": [
        "5. A la llibreta d'estalvis tinc 275 euros. Hi poso dos bitllets de 10 euros i tres monedes de 2 euros.\n",
        "Quants euros hi tinc ara?"
      ],
      "metadata": {
        "id": "2uMYB1XOph0K"
      }
    },
    {
      "cell_type": "code",
      "source": [
        "llibreta_estalvis=275 #euros\n",
        "billets=(2*10) #euros\n",
        "monedes=(2*3) #euros\n",
        "print(llibreta_estalvis+billets+monedes)"
      ],
      "metadata": {
        "colab": {
          "base_uri": "https://localhost:8080/"
        },
        "id": "43vXTP2XphNa",
        "outputId": "caf283df-eeef-4729-980a-760e688f07f1"
      },
      "execution_count": null,
      "outputs": [
        {
          "output_type": "stream",
          "name": "stdout",
          "text": [
            "301\n"
          ]
        }
      ]
    },
    {
      "cell_type": "markdown",
      "source": [
        "6. A una família li falten 26.625 euros per poder comprar una casa que val 98.370 euros. Quants\n",
        "euros té?"
      ],
      "metadata": {
        "id": "lJzMn14Mbu4o"
      }
    },
    {
      "cell_type": "code",
      "source": [
        "falten= 26625 #euros\n",
        "total_casa=98370 #euros\n",
        "print(total_casa-falten)"
      ],
      "metadata": {
        "colab": {
          "base_uri": "https://localhost:8080/"
        },
        "id": "jCdoFaqlbuJb",
        "outputId": "cb51427b-35e3-4a2e-d0f7-f5c4fb0b20d6"
      },
      "execution_count": null,
      "outputs": [
        {
          "output_type": "stream",
          "name": "stdout",
          "text": [
            "71745\n"
          ]
        }
      ]
    },
    {
      "cell_type": "markdown",
      "source": [
        "7. Si dues revistes pesen 432 grams i el pes d'aquestes dues revistes és el mateix que cinc\n",
        "rotuladors. Quant pesa un rotulador?"
      ],
      "metadata": {
        "id": "OyQHwSJVcQGo"
      }
    },
    {
      "cell_type": "code",
      "source": [
        "dues_revistes= 432 #grams\n",
        "rotuladors= 5\n",
        "print(dues_revistes/rotuladors)"
      ],
      "metadata": {
        "colab": {
          "base_uri": "https://localhost:8080/"
        },
        "id": "HtPIs3OOcOu5",
        "outputId": "159187c4-261a-416c-b3be-edc9ea257450"
      },
      "execution_count": null,
      "outputs": [
        {
          "output_type": "stream",
          "name": "stdout",
          "text": [
            "86.4\n"
          ]
        }
      ]
    },
    {
      "cell_type": "markdown",
      "source": [
        "8. Una font raja 86 litres d'aigua per minut, d'una altra 74 litres i d'una tercera 132 litres. Quants\n",
        "litres ragen les tres fonts juntes en una hora?"
      ],
      "metadata": {
        "id": "e3T2K7Wzcv8P"
      }
    },
    {
      "cell_type": "code",
      "source": [
        "font_u= 86 #litres_per_minut\n",
        "font_dos= 74 #litres_per_minut\n",
        "font_tres= 132 #litres_per_minut\n",
        "print((font_u+font_dos+font_tres)*60)"
      ],
      "metadata": {
        "colab": {
          "base_uri": "https://localhost:8080/"
        },
        "id": "khdPA14ecPcp",
        "outputId": "411c31ac-bdab-4290-bcff-f5c838659505"
      },
      "execution_count": null,
      "outputs": [
        {
          "output_type": "stream",
          "name": "stdout",
          "text": [
            "17520\n"
          ]
        }
      ]
    },
    {
      "cell_type": "markdown",
      "source": [
        "9. Un terrissaire fa 301 gerres cada setmana. Si les posa em caixes de 7 gerres, quantes caixes\n",
        "n'omple?"
      ],
      "metadata": {
        "id": "aymA6c83deEv"
      }
    },
    {
      "cell_type": "code",
      "source": [
        "terrissaire= 301 #gerres\n",
        "caixes= 7 #caixes\n",
        "print(terrissaire/caixes)"
      ],
      "metadata": {
        "colab": {
          "base_uri": "https://localhost:8080/"
        },
        "id": "95W-U6yCcPhy",
        "outputId": "1237cd2e-558e-410b-a015-871365b5694f"
      },
      "execution_count": null,
      "outputs": [
        {
          "output_type": "stream",
          "name": "stdout",
          "text": [
            "43.0\n"
          ]
        }
      ]
    },
    {
      "cell_type": "markdown",
      "source": [
        "10. En un vaixell hi van 175 mariners i en un submarí 56. quants mariners hi haurà en 14 vaixells i\n",
        "6 submarins iguals als esmentats?"
      ],
      "metadata": {
        "id": "WkrGDCT1dx5_"
      }
    },
    {
      "cell_type": "code",
      "source": [
        "vaixell= 175 #mariners\n",
        "submari= 56 #mariners\n",
        "print((vaixell*14)+(submari*6))"
      ],
      "metadata": {
        "colab": {
          "base_uri": "https://localhost:8080/"
        },
        "id": "ALJNv7kocPmj",
        "outputId": "2ab84db1-39db-4e7e-8e11-6b5e3944a0f0"
      },
      "execution_count": null,
      "outputs": [
        {
          "output_type": "stream",
          "name": "stdout",
          "text": [
            "2786\n"
          ]
        }
      ]
    }
  ]
}