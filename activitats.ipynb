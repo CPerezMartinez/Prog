{
  "nbformat": 4,
  "nbformat_minor": 0,
  "metadata": {
    "colab": {
      "provenance": [],
      "authorship_tag": "ABX9TyNfDJWBkWkjDIUgRw+xiVVJ",
      "include_colab_link": true
    },
    "kernelspec": {
      "name": "python3",
      "display_name": "Python 3"
    },
    "language_info": {
      "name": "python"
    }
  },
  "cells": [
    {
      "cell_type": "markdown",
      "metadata": {
        "id": "view-in-github",
        "colab_type": "text"
      },
      "source": [
        "<a href=\"https://colab.research.google.com/github/CPerezMartinez/prog/blob/prog/activitats.ipynb\" target=\"_parent\"><img src=\"https://colab.research.google.com/assets/colab-badge.svg\" alt=\"Open In Colab\"/></a>"
      ]
    },
    {
      "cell_type": "code",
      "execution_count": null,
      "metadata": {
        "colab": {
          "base_uri": "https://localhost:8080/"
        },
        "id": "0bd0WOGhH_FQ",
        "outputId": "8b8eb3ac-91bb-49ab-a97f-936c2bedc902"
      },
      "outputs": [
        {
          "output_type": "stream",
          "name": "stdout",
          "text": [
            "Hola món\n"
          ]
        }
      ],
      "source": [
        "print(\"Hola món\")"
      ]
    },
    {
      "cell_type": "code",
      "source": [
        "x= \"Hola món\"\n",
        "print(x)"
      ],
      "metadata": {
        "colab": {
          "base_uri": "https://localhost:8080/"
        },
        "id": "B0Ol-PZXIde-",
        "outputId": "ceb07354-e097-40ec-f8aa-002149c70aae"
      },
      "execution_count": null,
      "outputs": [
        {
          "output_type": "stream",
          "name": "stdout",
          "text": [
            "Hola món\n"
          ]
        }
      ]
    },
    {
      "cell_type": "code",
      "source": [
        "nom=input(\"Com et dius?\")\n",
        "print(f'Benvingut', nom)\n"
      ],
      "metadata": {
        "colab": {
          "base_uri": "https://localhost:8080/"
        },
        "id": "ajlr_mjGK7yT",
        "outputId": "69e0e513-d27c-4154-8142-1a6d544d87e1"
      },
      "execution_count": null,
      "outputs": [
        {
          "output_type": "stream",
          "name": "stdout",
          "text": [
            "Com et dius?Pepa\n",
            "Benvingut Pepa\n"
          ]
        }
      ]
    },
    {
      "cell_type": "markdown",
      "source": [
        "Cobro 50.25 al l'hora. Treballo 20h a la setmana. Quant cobro en un mes?"
      ],
      "metadata": {
        "id": "z5EEyzmlvtVo"
      }
    },
    {
      "cell_type": "code",
      "source": [
        "diners_hora= float(input(\"Quants diners cobres a l'hora?\")) #euros\n",
        "treball= float(input(\"Quantes hores de treball fas a la setmana?\")) #hores\n",
        "setmanes= 4\n",
        "resultat= print(diners_hora*treball*setmanes)\n",
        "if (resultat,1==0):\n",
        "  print(f' El resultat cal que sigui float o tuple')\n",
        "else:\n",
        "  print(type(resultat))"
      ],
      "metadata": {
        "colab": {
          "base_uri": "https://localhost:8080/"
        },
        "id": "gVIIfcpvv7V6",
        "outputId": "7186e886-e131-44b6-b3bf-664cb87b35c8"
      },
      "execution_count": null,
      "outputs": [
        {
          "output_type": "stream",
          "name": "stdout",
          "text": [
            "Quants diners cobres a l'hora?23\n",
            "Quantes hores de treball fas a la setmana?21\n",
            "1932.0\n",
            " El resultat cal que sigui float o tuple\n"
          ]
        }
      ]
    },
    {
      "cell_type": "code",
      "source": [
        "llibres= float(input(\"Quants llibres compres?\"))\n",
        "punt_de_llibre= float(input(\"Quants punts de llibre compres?\"))\n",
        "portallibres= float(input(\"Quants punts de llibre compres?\"))\n",
        "\n",
        "preu = ((llibres*5)+(punt_de_llibre*1.5)+(portallibres*10))\n",
        "if (preu%1==0):\n",
        " print(\"Cal que sigui float\")\n",
        "else:\n",
        " print(\"El preu és\",preu)"
      ],
      "metadata": {
        "colab": {
          "base_uri": "https://localhost:8080/"
        },
        "id": "iQ2xBBQ9kfPQ",
        "outputId": "020ccea3-b315-40ea-a6bd-94c9e344818c"
      },
      "execution_count": null,
      "outputs": [
        {
          "output_type": "stream",
          "name": "stdout",
          "text": [
            "Quants llibres compres?1\n",
            "Quants punts de llibre compres?2\n",
            "Quants punts de llibre compres?5\n",
            "Cal que sigu float\n"
          ]
        }
      ]
    },
    {
      "cell_type": "code",
      "source": [
        "costat_quadrat = int(input(\"Quina és la mida del costat quadrat? \"))\n",
        "perimetre = int(costat_quadrat*4)\n",
        "print(\"El perímetre del quadrat és\",perimetre)"
      ],
      "metadata": {
        "colab": {
          "base_uri": "https://localhost:8080/"
        },
        "id": "-F00-rg2tCg4",
        "outputId": "7600c57b-384c-4460-f4e6-11f6bdda200c"
      },
      "execution_count": null,
      "outputs": [
        {
          "output_type": "stream",
          "name": "stdout",
          "text": [
            "Quina és la mida del costat quadrat?9\n",
            "El perímetre del quadrat és 36\n"
          ]
        }
      ]
    },
    {
      "cell_type": "code",
      "source": [
        "variable_1= 1\n",
        "variable_2= 2\n",
        "variable_3= 3\n",
        "variable_4= 4\n",
        "\n",
        "sumatori= int(variable_1+variable_2+variable_3+variable_4)\n",
        "sumatori_primers= int(variable_1+variable_2)\n",
        "sumatori_ultims= int(variable_3+variable_4)\n",
        "sumatori_productes= int(sumatori_ultims+sumatori_primers)\n",
        "print(f'La suma de tot és',sumatori)\n",
        "print(f'La suma dels dos primers és',sumatori_primers)\n",
        "print(f'La suma dels dos últims',sumatori_ultims)\n",
        "print(f'La suma dels dos productes és',sumatori_productes)"
      ],
      "metadata": {
        "id": "m-HxNPOQvQQ-",
        "colab": {
          "base_uri": "https://localhost:8080/"
        },
        "outputId": "f26f9416-6579-4709-edb4-1622a68e5f5e"
      },
      "execution_count": 27,
      "outputs": [
        {
          "output_type": "stream",
          "name": "stdout",
          "text": [
            "La suma de tot és 10\n",
            "La suma dels dos primers és 3\n",
            "La suma dels dos últims 7\n",
            "La suma dels dos productes és 10\n"
          ]
        }
      ]
    },
    {
      "cell_type": "code",
      "source": [
        "costat_quadrat= int(input(\"Quina és la mida del quadrat?\"))\n",
        "superficie=int(costat_quadrat*costat_quadrat)\n",
        "print(f'La superficie del costat és',superficie)"
      ],
      "metadata": {
        "colab": {
          "base_uri": "https://localhost:8080/"
        },
        "id": "l1oKYXs5Bh-3",
        "outputId": "a2f3135e-58f4-4c51-885d-bfedaeb95843"
      },
      "execution_count": 26,
      "outputs": [
        {
          "output_type": "stream",
          "name": "stdout",
          "text": [
            "Quina és la mida del quadrat?3\n",
            "La superficie del costat és 9\n"
          ]
        }
      ]
    },
    {
      "cell_type": "markdown",
      "source": [
        "Una botiga de joguines té molt èxit en dos dels seus productes: nines i pallassos. Acostuma a fer venda per correu i l'empresa de logística els cobra pel pes de cada joguina, així doncs han de calcular el pes dels pallassos i nines que s'enviaran a cada paquet a demanda. Cada pallasso pesa 112 g, i cada nina 75g. Fes un programa que llegeixi el nom de pallassos i nines venuts en la darrera comanda i el preu total de la comanda."
      ],
      "metadata": {
        "id": "qSQgNtsCJG8q"
      }
    },
    {
      "cell_type": "code",
      "source": [
        "nines_pes= 75 #grams\n",
        "pallassos_pes= 112 #grams\n",
        "nines_venudes=int(input(\"Nº de nines venudes? \"))\n",
        "print(nines_venudes)\n",
        "print(type(nines_venudes))\n",
        "pallassos_venuts=int(input(\"Nº de pallassos venuts? \"))\n",
        "print(pallassos_venuts)\n",
        "print(type(pallassos_venuts))\n",
        "total_u=pallassos_venuts*pallassos_pes\n",
        "total_dos=nines_pes*nines_venudes\n",
        "resultat=(total_u+total_dos)\n",
        "print(f'En total han venut', resultat, 'nines i pallassos')\n",
        "print(type(resultat))"
      ],
      "metadata": {
        "colab": {
          "base_uri": "https://localhost:8080/"
        },
        "id": "CTg9fBN-M-mf",
        "outputId": "a9f26aca-9193-412c-ccc6-5512b06ee3a3"
      },
      "execution_count": null,
      "outputs": [
        {
          "output_type": "stream",
          "name": "stdout",
          "text": [
            "Nº de nines venudes? 9\n",
            "9\n",
            "<class 'int'>\n",
            "Nº de pallassos venuts? 4\n",
            "4\n",
            "<class 'int'>\n",
            "En total han venut 1123 nines i pallassos\n",
            "<class 'int'>\n"
          ]
        }
      ]
    }
  ]
}