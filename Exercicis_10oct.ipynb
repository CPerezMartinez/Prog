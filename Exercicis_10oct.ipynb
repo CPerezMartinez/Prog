{
  "nbformat": 4,
  "nbformat_minor": 0,
  "metadata": {
    "colab": {
      "provenance": [],
      "authorship_tag": "ABX9TyPupGFwoMaQnNE+3zmZmz2p",
      "include_colab_link": true
    },
    "kernelspec": {
      "name": "python3",
      "display_name": "Python 3"
    },
    "language_info": {
      "name": "python"
    }
  },
  "cells": [
    {
      "cell_type": "markdown",
      "metadata": {
        "id": "view-in-github",
        "colab_type": "text"
      },
      "source": [
        "<a href=\"https://colab.research.google.com/github/CPerezMartinez/prog/blob/prog/Exercicis_10oct.ipynb\" target=\"_parent\"><img src=\"https://colab.research.google.com/assets/colab-badge.svg\" alt=\"Open In Colab\"/></a>"
      ]
    },
    {
      "cell_type": "code",
      "execution_count": 6,
      "metadata": {
        "id": "i6QnIdUUSvMr",
        "colab": {
          "base_uri": "https://localhost:8080/"
        },
        "outputId": "4725478b-8bfc-40a3-96c8-8c2b7f20402f"
      },
      "outputs": [
        {
          "output_type": "stream",
          "name": "stdout",
          "text": [
            "Quin és el teu sou?1000\n",
            "No has de pagar IRPF\n"
          ]
        }
      ],
      "source": [
        "sou= int(input(f'Quin és el teu sou?'))\n",
        "if(sou>2000):\n",
        "  print(f'Has de pagar un 15% de IRPF')\n",
        "else:\n",
        "  print(f'No has de pagar IRPF')"
      ]
    },
    {
      "cell_type": "code",
      "source": [
        "variable_u= int(input(f'Quina vols que sigui la variable 1?'))\n",
        "variable_dos= int(input(f'Quina vols que sigui la variable 2?'))\n",
        "if(variable_u>variable_dos):\n",
        "  print(f'La variable 1 és més gran')\n",
        "else:\n",
        "  print(f'La variable 2 és més gran')"
      ],
      "metadata": {
        "id": "T7l9rKS2Syfh",
        "colab": {
          "base_uri": "https://localhost:8080/"
        },
        "outputId": "aa65b5a5-6482-4066-817d-bded97fc89b8"
      },
      "execution_count": 8,
      "outputs": [
        {
          "output_type": "stream",
          "name": "stdout",
          "text": [
            "Quina vols que sigui la variable 1?2\n",
            "Quina vols que sigui la variable 2?3\n",
            "La variable 2 és més gran\n"
          ]
        }
      ]
    },
    {
      "cell_type": "code",
      "source": [
        "nomina= 2950\n",
        "pagar_estat= 20\n",
        "gas= 70\n",
        "aigua= 55\n",
        "pis= 1000\n",
        "\n",
        "restant_pagar_estat= ((nomina*pagar_estat)/100)\n",
        "restant_gas= (restant_pagar_estat-gas)\n",
        "restant_aigua= (restant_gas-aigua)\n",
        "restant_pis= (restant_aigua-pis)\n",
        "\n",
        "if(restant_pis>1000):\n",
        "  print(f'Pagat unes vacances!')\n",
        "else:\n",
        "  print(f'Compte!')"
      ],
      "metadata": {
        "id": "x-utJzPQSzPG",
        "colab": {
          "base_uri": "https://localhost:8080/"
        },
        "outputId": "b703763b-967b-4ede-e6df-db9fdb971dfe"
      },
      "execution_count": 4,
      "outputs": [
        {
          "output_type": "stream",
          "name": "stdout",
          "text": [
            "Compte!\n"
          ]
        }
      ]
    }
  ]
}