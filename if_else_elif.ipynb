{
  "nbformat": 4,
  "nbformat_minor": 0,
  "metadata": {
    "colab": {
      "provenance": []
    },
    "kernelspec": {
      "name": "python3",
      "display_name": "Python 3"
    },
    "language_info": {
      "name": "python"
    }
  },
  "cells": [
    {
      "cell_type": "markdown",
      "source": [
        "crea una estructura que té valors compresos entre 0-40,   >40-80,    >80-120,     >120\n",
        "\n",
        "x=45\n",
        "\n",
        "if\n",
        "\n",
        "elif x2\n",
        "\n",
        "esle"
      ],
      "metadata": {
        "id": "bS83pGcELx5m"
      }
    },
    {
      "cell_type": "code",
      "execution_count": null,
      "metadata": {
        "colab": {
          "base_uri": "https://localhost:8080/"
        },
        "id": "n4aKS1__Lun1",
        "outputId": "3e463b8c-3d1f-4159-b814-755498d08a9f"
      },
      "outputs": [
        {
          "output_type": "stream",
          "name": "stdout",
          "text": [
            "El teu valor està per sobre de 40 i per sota de 80\n"
          ]
        }
      ],
      "source": [
        "x=int(45)\n",
        "if (x<40):\n",
        "  print(f'El teu valor està per sobre de 0 i per sota de 40')\n",
        "elif (x>40):\n",
        "  print(f'El teu valor està per sobre de 40 i per sota de 80')\n",
        "elif (x>80):\n",
        "  print(f'El teu valor està per sobre de 80 i per sota de 120')\n",
        "elif (x==45):\n",
        "  print(f'El teu valor és 45')\n",
        "else:\n",
        "  print(f'El teu valor està per sobre de 120')\n"
      ]
    },
    {
      "cell_type": "markdown",
      "source": [
        "llista numerica [13, 27 , 34, 87, 123, 46, 61, 88, 72, ]\n",
        "bucle infinit\n",
        "\n",
        "if elif else \t0-120\t>20-40\t\t>40-60\t\t>60-80\t\t>80-120\t>120\n"
      ],
      "metadata": {
        "id": "_TViWX1LLwyE"
      }
    },
    {
      "cell_type": "code",
      "source": [
        "llista = [13,27,34,84,123,46,61,88,72]\n",
        "iter=0\n",
        "for numero in llista:\n",
        "  print(numero)\n",
        "iter=iter+1\n",
        "\n"
      ],
      "metadata": {
        "colab": {
          "base_uri": "https://localhost:8080/"
        },
        "id": "NTXz9IqlLwGN",
        "outputId": "c3059e0e-2294-4f92-c06e-5a5bdfbde9bd"
      },
      "execution_count": null,
      "outputs": [
        {
          "output_type": "stream",
          "name": "stdout",
          "text": [
            "13\n",
            "27\n",
            "34\n",
            "84\n",
            "123\n",
            "46\n",
            "61\n",
            "88\n",
            "72\n",
            "El número està per sobre de 120\n"
          ]
        }
      ]
    },
    {
      "cell_type": "code",
      "source": [
        "if (numero>20):\n",
        "  print(f'El número està per sobre de 0 i per sota de 20')\n",
        "elif (numero>40):\n",
        "  print(f'El número està per sobre de 40 i per sota de 80')\n",
        "elif (numero>80):\n",
        "  print(f'El número està per sobre de 80 i per sota de 120')\n",
        "else:\n",
        "  print(f'El número està per sobre de 120')"
      ],
      "metadata": {
        "id": "uDA7rZMTSJod"
      },
      "execution_count": null,
      "outputs": []
    }
  ]
}