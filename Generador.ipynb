{
  "nbformat": 4,
  "nbformat_minor": 0,
  "metadata": {
    "colab": {
      "provenance": [],
      "authorship_tag": "ABX9TyOgoqB6OK4g9VWzItKzpStu",
      "include_colab_link": true
    },
    "kernelspec": {
      "name": "python3",
      "display_name": "Python 3"
    },
    "language_info": {
      "name": "python"
    }
  },
  "cells": [
    {
      "cell_type": "markdown",
      "metadata": {
        "id": "view-in-github",
        "colab_type": "text"
      },
      "source": [
        "<a href=\"https://colab.research.google.com/github/CPerezMartinez/prog/blob/prog/Generador.ipynb\" target=\"_parent\"><img src=\"https://colab.research.google.com/assets/colab-badge.svg\" alt=\"Open In Colab\"/></a>"
      ]
    },
    {
      "cell_type": "code",
      "execution_count": null,
      "metadata": {
        "id": "aWFbtGFluXwq",
        "colab": {
          "base_uri": "https://localhost:8080/"
        },
        "outputId": "40734b6f-2b4b-4d1a-ef95-a7e3986e768d"
      },
      "outputs": [
        {
          "output_type": "stream",
          "name": "stdout",
          "text": [
            "['A', 'B', 'C', 'x', 'y', 'z', '1', '2', '3', '@', '_']\n",
            "ABCxyz123@_\n"
          ]
        }
      ],
      "source": [
        "#La meva contrasenya ha de ser ABCxyz123@_\n",
        "\n",
        "majuscula_u = \"A\"\n",
        "majuscula_dos = \"B\"\n",
        "majuscula_tres = \"C\"\n",
        "minuscula_u = \"x\"\n",
        "minuscula_dos = \"y\"\n",
        "minuscula_tres = \"z\"\n",
        "numero_u = \"1\"\n",
        "numero_dos = \"2\"\n",
        "numero_tres = \"3\"\n",
        "caracter_especial_u = \"@\"\n",
        "caracter_especial_dos = \"_\"\n",
        "\n",
        "contrasenya = []\n",
        "contrasenya.append(majuscula_u)\n",
        "contrasenya.append(majuscula_dos)\n",
        "contrasenya.append(majuscula_tres)\n",
        "contrasenya.append(minuscula_u)\n",
        "contrasenya.append(minuscula_dos)\n",
        "contrasenya.append(minuscula_tres)\n",
        "contrasenya.append(numero_u)\n",
        "contrasenya.append(numero_dos)\n",
        "contrasenya.append(numero_tres)\n",
        "contrasenya.append(caracter_especial_u)\n",
        "contrasenya.append(caracter_especial_dos)\n",
        "\n",
        "print(contrasenya)\n",
        "\n",
        "contrasenya_dos = \"\".join(contrasenya)\n",
        "\n",
        "print(contrasenya_dos)"
      ]
    }
  ]
}