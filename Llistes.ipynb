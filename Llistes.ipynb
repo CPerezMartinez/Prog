{
  "nbformat": 4,
  "nbformat_minor": 0,
  "metadata": {
    "colab": {
      "provenance": [],
      "authorship_tag": "ABX9TyNz4SbOaSEkAlfgj/eD7Y/9",
      "include_colab_link": true
    },
    "kernelspec": {
      "name": "python3",
      "display_name": "Python 3"
    },
    "language_info": {
      "name": "python"
    }
  },
  "cells": [
    {
      "cell_type": "markdown",
      "metadata": {
        "id": "view-in-github",
        "colab_type": "text"
      },
      "source": [
        "<a href=\"https://colab.research.google.com/github/CPerezMartinez/prog/blob/prog/Llistes.ipynb\" target=\"_parent\"><img src=\"https://colab.research.google.com/assets/colab-badge.svg\" alt=\"Open In Colab\"/></a>"
      ]
    },
    {
      "cell_type": "code",
      "execution_count": null,
      "metadata": {
        "colab": {
          "base_uri": "https://localhost:8080/"
        },
        "id": "0cd2aw_dF8vd",
        "outputId": "f73deb1e-f414-4e03-a4b8-216b61dfe581"
      },
      "outputs": [
        {
          "output_type": "stream",
          "name": "stdout",
          "text": [
            "['llet ', 'pa ', 'peix ', 'nutella ', '4 ', '15 ', 'cervesa ']\n",
            "peix \n",
            "4 \n",
            "peix \n",
            "['llet ', 'pa ', 'nutella ', '4 ', '15 ', 'cervesa ']\n",
            "['llet ', 'pa ', 'nutella ', 'chupa chups', '4 ', '15 ', 'cervesa ', 'chupa chups']\n",
            "11\n",
            "LLET PA NUTELLA CHUPA CHUPS4 15 CERVESA CHUPA CHUPS\n",
            "llet pa nutella chupa chups4 15 cervesa chupa chups\n"
          ]
        }
      ],
      "source": [
        "llista = [\"llet \",\"pa \",\"peix \",\"nutella \",\"4 \",\"15 \",\"cervesa \"]\n",
        "\n",
        "print(llista)\n",
        "print(llista[2])\n",
        "print(llista[4])\n",
        "\n",
        "print(llista.pop(2))\n",
        "\n",
        "print(llista)\n",
        "\n",
        "afegit = \"chupa chups\"\n",
        "\n",
        "(llista.append(afegit))\n",
        "\n",
        "llista.insert(3, afegit)\n",
        "\n",
        "print(llista)\n",
        "\n",
        "len(llista)\n",
        "\n",
        "print(len(\"chupa chups\"))\n",
        "\n",
        "llista_dos = \"\".join(llista)\n",
        "\n",
        "llista_dos_upper = llista_dos.upper()\n",
        "\n",
        "llista_dos_lower = llista_dos.lower()\n",
        "\n",
        "print(llista_dos_upper)\n",
        "print(llista_dos_lower)\n",
        "\n"
      ]
    },
    {
      "cell_type": "markdown",
      "source": [
        "Abecedario"
      ],
      "metadata": {
        "id": "X_IWTg4wJuLV"
      }
    },
    {
      "cell_type": "code",
      "source": [
        "abecedari = [\"a\",\"b\",\"c\",\"d\",\"e\",\"f\",\"g\",\"h\",\"i\",\"j\",\"k\",\"l\",\"m\",\"n\",\"o\",\"p\",\"q\",\"r\",\"s\",\"t\",\"u\",\"v\",\"w\",\"x\",\"y\",\"z\"]\n",
        "\n",
        "abecedari_dos = \"\".join(abecedari)\n",
        "\n",
        "print(abecedari_dos)\n",
        "\n",
        "for letra in abecedari:\n",
        "  print(letra)\n",
        "\n",
        "abecedari_dos_upper = abecedari_dos.upper()\n",
        "print(abecedari_dos_upper)\n",
        "for letra in abecedari_dos_upper:\n",
        "  print(letra)"
      ],
      "metadata": {
        "colab": {
          "base_uri": "https://localhost:8080/"
        },
        "id": "bUPVcvOKJrsx",
        "outputId": "04ef7a87-02ea-4bf8-81a0-fb37f641e73c"
      },
      "execution_count": null,
      "outputs": [
        {
          "output_type": "stream",
          "name": "stdout",
          "text": [
            "abcdefghijklmnopqrstuvwxyz\n",
            "a\n",
            "b\n",
            "c\n",
            "d\n",
            "e\n",
            "f\n",
            "g\n",
            "h\n",
            "i\n",
            "j\n",
            "k\n",
            "l\n",
            "m\n",
            "n\n",
            "o\n",
            "p\n",
            "q\n",
            "r\n",
            "s\n",
            "t\n",
            "u\n",
            "v\n",
            "w\n",
            "x\n",
            "y\n",
            "z\n",
            "ABCDEFGHIJKLMNOPQRSTUVWXYZ\n",
            "A\n",
            "B\n",
            "C\n",
            "D\n",
            "E\n",
            "F\n",
            "G\n",
            "H\n",
            "I\n",
            "J\n",
            "K\n",
            "L\n",
            "M\n",
            "N\n",
            "O\n",
            "P\n",
            "Q\n",
            "R\n",
            "S\n",
            "T\n",
            "U\n",
            "V\n",
            "W\n",
            "X\n",
            "Y\n",
            "Z\n"
          ]
        }
      ]
    },
    {
      "cell_type": "code",
      "source": [
        "hola = \"llet, patata\"\n",
        "hola_upper = hola.upper()\n",
        "print(hola)\n",
        "\n",
        "print(hola_upper)\n"
      ],
      "metadata": {
        "colab": {
          "base_uri": "https://localhost:8080/"
        },
        "id": "3FyLXQ6EEb04",
        "outputId": "f1b1edaa-733a-4818-d2ae-44acdc224d4b"
      },
      "execution_count": null,
      "outputs": [
        {
          "output_type": "stream",
          "name": "stdout",
          "text": [
            "llet, patata\n",
            "LLET, PATATA\n"
          ]
        }
      ]
    },
    {
      "cell_type": "code",
      "source": [
        "numbers = [1,4,6,3]\n",
        "numbers.sort()\n",
        "print(numbers)"
      ],
      "metadata": {
        "colab": {
          "base_uri": "https://localhost:8080/"
        },
        "id": "MFGhRL9pNwH2",
        "outputId": "930921a8-15f0-4ada-da41-b539a4efcd5f"
      },
      "execution_count": null,
      "outputs": [
        {
          "output_type": "stream",
          "name": "stdout",
          "text": [
            "[1, 3, 4, 6]\n"
          ]
        }
      ]
    },
    {
      "cell_type": "code",
      "source": [
        "persones = [\"Roger\",\"Lídia\",\"Neus\",\"Marc\",\"Anna\", \"Arnau\",\"Hèctor\",\"Sílvia\"]\n",
        "for (nom) in (persones):\n",
        "  print(f'Aquesta persona es diu',nom)\n",
        "\n",
        "persones_dos = \"\".join(persones)\n",
        "print(persones_dos)\n",
        "\n",
        "persones_dos_upper = persones_dos.upper()\n",
        "print(persones_dos_upper)\n",
        "\n",
        "print(f'La quantitat de A és:',(persones_dos_upper.count(\"A\")))\n",
        "\n",
        "accent_u = print(f'La quantitat de À és:',(persones_dos_upper.count(\"À\")))\n",
        "accent_dos = print(f'La quantitas de È és:',(persones_dos_upper.count(\"È\")))\n",
        "accent_tres = print(f'La quantitat de É és:',(persones_dos_upper.count(\"É\")))\n",
        "accent_quatre = print(f'La quantitat de Í és:',(persones_dos_upper.count(\"Í\")))\n",
        "accent_cinc = print(f'La quantitat de la Ò és:',(persones_dos_upper.count(\"Ò\")))\n",
        "accent_sis = print(f'La quantitat de Ó és:',(persones_dos_upper.count(\"Ó\")))\n",
        "accent_set = print(f'La quantitat de Ú és:',(persones_dos_upper.count(\"Ú\")))\n",
        "\n"
      ],
      "metadata": {
        "colab": {
          "base_uri": "https://localhost:8080/"
        },
        "id": "fsiHHMMaIwr-",
        "outputId": "de5cc672-a5d9-48e2-fe73-af8a0fecf805"
      },
      "execution_count": null,
      "outputs": [
        {
          "output_type": "stream",
          "name": "stdout",
          "text": [
            "Aquesta persona es diu Roger\n",
            "Aquesta persona es diu Lídia\n",
            "Aquesta persona es diu Neus\n",
            "Aquesta persona es diu Marc\n",
            "Aquesta persona es diu Anna\n",
            "Aquesta persona es diu Arnau\n",
            "Aquesta persona es diu Hèctor\n",
            "Aquesta persona es diu Sílvia\n",
            "RogerLídiaNeusMarcAnnaArnauHèctorSílvia\n",
            "ROGERLÍDIANEUSMARCANNAARNAUHÈCTORSÍLVIA\n",
            "La quantitat de A és: 7\n",
            "La quantitat de À és: 0\n",
            "La quantitas de È és: 1\n",
            "La quantitat de É és: 0\n",
            "La quantitat de Í és: 2\n",
            "La quantitat de la Ò és: 0\n",
            "La quantitat de Ó és: 0\n",
            "La quantitat de Ú és: 0\n"
          ]
        }
      ]
    },
    {
      "cell_type": "markdown",
      "source": [
        "llista (0, 20, +3) con saltos de 3\n",
        "[0,3,6,9,12,15,18]\n",
        "\n",
        "32 al 18 salts de 2\n",
        " (32,18,-2)\n"
      ],
      "metadata": {
        "id": "Gn4InUpPMJ0Q"
      }
    },
    {
      "cell_type": "code",
      "source": [
        "#range hace rango concreto t habla d un primer valor es de donde se inicia a donde acaba, en negativo los hace todos en positivo el ultimo no lo hace.\n",
        "\n",
        "salts = list(range(0, 20, +3))\n",
        "\n",
        "print(salts)\n",
        "\n",
        "salts_dos = list(range(32, 18, -2))\n",
        "\n",
        "print(salts_dos)\n",
        "\n"
      ],
      "metadata": {
        "colab": {
          "base_uri": "https://localhost:8080/"
        },
        "id": "I5xRzfqgIxmT",
        "outputId": "d11e49a8-e66d-4c86-be08-eb00265d5859"
      },
      "execution_count": null,
      "outputs": [
        {
          "output_type": "stream",
          "name": "stdout",
          "text": [
            "[0, 3, 6, 9, 12, 15, 18]\n",
            "[32, 30, 28, 26, 24, 22, 20]\n"
          ]
        }
      ]
    }
  ]
}