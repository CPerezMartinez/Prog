{
  "nbformat": 4,
  "nbformat_minor": 0,
  "metadata": {
    "colab": {
      "provenance": [],
      "authorship_tag": "ABX9TyOcD7cwenRW9sQB/ZTy24VW",
      "include_colab_link": true
    },
    "kernelspec": {
      "name": "python3",
      "display_name": "Python 3"
    },
    "language_info": {
      "name": "python"
    }
  },
  "cells": [
    {
      "cell_type": "markdown",
      "metadata": {
        "id": "view-in-github",
        "colab_type": "text"
      },
      "source": [
        "<a href=\"https://colab.research.google.com/github/CPerezMartinez/prog/blob/prog/exercici_16oct.ipynb\" target=\"_parent\"><img src=\"https://colab.research.google.com/assets/colab-badge.svg\" alt=\"Open In Colab\"/></a>"
      ]
    },
    {
      "cell_type": "code",
      "execution_count": null,
      "metadata": {
        "colab": {
          "base_uri": "https://localhost:8080/"
        },
        "id": "FcUrUbDov2-d",
        "outputId": "55a74cf9-8199-48ea-8494-ef41a60f1f93"
      },
      "outputs": [
        {
          "output_type": "stream",
          "name": "stdout",
          "text": [
            "DIgues la nota de català1\n",
            "Digues la nota de castellà2\n",
            "Digues la nota de anglès1\n",
            "Has suspes amb un 1.3333333333333333 has de fer recuperacions o repetir\n"
          ]
        }
      ],
      "source": [
        "nota_u= int(input(f'DIgues la nota de català'))\n",
        "nota_dos= int(input(f'Digues la nota de castellà'))\n",
        "nota_tres= int(input(f'Digues la nota de anglès'))\n",
        "\n",
        "mitjana= ((nota_u+nota_dos+nota_tres)/3)\n",
        "\n",
        "if(mitjana>7):\n",
        "  print(f'Has aprovat el curs amb un',mitjana)\n",
        "elif(4<mitjana<7):\n",
        "  print(f'Vigila cara al següent curs, tens un',mitjana)\n",
        "else:\n",
        "  print(f'Has suspes amb un',mitjana,'has de fer recuperacions o repetir')"
      ]
    },
    {
      "cell_type": "code",
      "source": [
        "import random\n",
        "variable_u = int(random.randint(0, 1000))\n",
        "variable_dos = int(random.randint(0, 1000))\n",
        "variable_tres = int(random.randint(0, 1000))\n",
        "\n",
        "print(variable_u, variable_dos, variable_tres)\n",
        "\n",
        "nombre_mes_gran= max(variable_u, variable_dos, variable_tres)\n",
        "print(f'El nombre més gran és',nombre_mes_gran)"
      ],
      "metadata": {
        "colab": {
          "base_uri": "https://localhost:8080/"
        },
        "id": "Rn3xP52Mv-cW",
        "outputId": "eec61ae7-758e-475b-da10-ac2ce8105111"
      },
      "execution_count": 11,
      "outputs": [
        {
          "output_type": "stream",
          "name": "stdout",
          "text": [
            "506 588 125\n",
            "El nombre més gran és 588\n"
          ]
        }
      ]
    },
    {
      "cell_type": "code",
      "source": [
        "valor= int(input(f'Posa un valor numèric sencer'))\n",
        "\n",
        "if(valor>0):\n",
        "  print(f'El nombre és positiu')\n",
        "elif(valor==0):\n",
        "  print(f'El teu nombre és igual a 0')\n",
        "else:\n",
        "  print(f'El teu nombre és negatiu')"
      ],
      "metadata": {
        "id": "oeINZ2cdv-mZ",
        "colab": {
          "base_uri": "https://localhost:8080/"
        },
        "outputId": "2c97e743-a612-4c3e-93ae-d28c7d072374"
      },
      "execution_count": 17,
      "outputs": [
        {
          "output_type": "stream",
          "name": "stdout",
          "text": [
            "Posa un valor numèric sencer-30\n",
            "El teu nombre és negatiu\n"
          ]
        }
      ]
    },
    {
      "cell_type": "code",
      "source": [
        "import random\n",
        "import string\n",
        "\n",
        "def generar_contrasenya(longitud=12):\n",
        "    caracteres = string.ascii_letters + string.digits + string.punctuation\n",
        "    return ''.join(random.choice(caracteres) for _ in range(longitud))\n",
        "\n",
        "longitud = int(input(\"Especifica la longitud de les contrasenyas: \"))\n",
        "\n",
        "contrasenyes = [generar_contrasenya(longitud) for _ in range(7)]\n",
        "\n",
        "print(\"Les contrasenyes generades són:\")\n",
        "for contrasena in contrasenyes:\n",
        "    print(contrasena)"
      ],
      "metadata": {
        "colab": {
          "base_uri": "https://localhost:8080/"
        },
        "id": "MfSHDnMSxpq-",
        "outputId": "e4fd005f-9b77-4e5b-e8ee-4a948452d469"
      },
      "execution_count": null,
      "outputs": [
        {
          "name": "stdout",
          "output_type": "stream",
          "text": [
            "Especifica la longitud de les contrasenyas: 2345678\n"
          ]
        }
      ]
    }
  ]
}