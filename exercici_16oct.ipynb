{
  "cells": [
    {
      "cell_type": "markdown",
      "metadata": {
        "id": "view-in-github",
        "colab_type": "text"
      },
      "source": [
        "<a href=\"https://colab.research.google.com/github/CPerezMartinez/prog/blob/prog/exercici_16oct.ipynb\" target=\"_parent\"><img src=\"https://colab.research.google.com/assets/colab-badge.svg\" alt=\"Open In Colab\"/></a>"
      ]
    },
    {
      "cell_type": "code",
      "execution_count": null,
      "metadata": {
        "colab": {
          "base_uri": "https://localhost:8080/"
        },
        "id": "FcUrUbDov2-d",
        "outputId": "55a74cf9-8199-48ea-8494-ef41a60f1f93"
      },
      "outputs": [
        {
          "name": "stdout",
          "output_type": "stream",
          "text": [
            "DIgues la nota de català1\n",
            "Digues la nota de castellà2\n",
            "Digues la nota de anglès1\n",
            "Has suspes amb un 1.3333333333333333 has de fer recuperacions o repetir\n"
          ]
        }
      ],
      "source": [
        "nota_u= int(input(f'DIgues la nota de català'))\n",
        "nota_dos= int(input(f'Digues la nota de castellà'))\n",
        "nota_tres= int(input(f'Digues la nota de anglès'))\n",
        "\n",
        "mitjana= ((nota_u+nota_dos+nota_tres)/3)\n",
        "\n",
        "if(mitjana>7):\n",
        "  print(f'Has aprovat el curs amb un',mitjana)\n",
        "elif(4<mitjana<7):\n",
        "  print(f'Vigila cara al següent curs, tens un',mitjana)\n",
        "else:\n",
        "  print(f'Has suspes amb un',mitjana,'has de fer recuperacions o repetir')"
      ]
    },
    {
      "cell_type": "code",
      "execution_count": null,
      "metadata": {
        "colab": {
          "base_uri": "https://localhost:8080/"
        },
        "id": "Rn3xP52Mv-cW",
        "outputId": "eec61ae7-758e-475b-da10-ac2ce8105111"
      },
      "outputs": [
        {
          "name": "stdout",
          "output_type": "stream",
          "text": [
            "506 588 125\n",
            "El nombre més gran és 588\n"
          ]
        }
      ],
      "source": [
        "import random\n",
        "variable_u = int(random.randint(0, 1000))\n",
        "variable_dos = int(random.randint(0, 1000))\n",
        "variable_tres = int(random.randint(0, 1000))\n",
        "\n",
        "print(variable_u, variable_dos, variable_tres)\n",
        "\n",
        "nombre_mes_gran= max(variable_u, variable_dos, variable_tres)\n",
        "print(f'El nombre més gran és',nombre_mes_gran)"
      ]
    },
    {
      "cell_type": "code",
      "execution_count": null,
      "metadata": {
        "colab": {
          "base_uri": "https://localhost:8080/"
        },
        "id": "oeINZ2cdv-mZ",
        "outputId": "2c97e743-a612-4c3e-93ae-d28c7d072374"
      },
      "outputs": [
        {
          "name": "stdout",
          "output_type": "stream",
          "text": [
            "Posa un valor numèric sencer-30\n",
            "El teu nombre és negatiu\n"
          ]
        }
      ],
      "source": [
        "valor= int(input(f'Posa un valor numèric sencer'))\n",
        "\n",
        "if(valor>0):\n",
        "  print(f'El nombre és positiu')\n",
        "elif(valor==0):\n",
        "  print(f'El teu nombre és igual a 0')\n",
        "else:\n",
        "  print(f'El teu nombre és negatiu')"
      ]
    }
  ],
  "metadata": {
    "colab": {
      "provenance": [],
      "authorship_tag": "ABX9TyPf64mb1crXbilZOmzYKebh",
      "include_colab_link": true
    },
    "kernelspec": {
      "display_name": "Python 3",
      "name": "python3"
    },
    "language_info": {
      "name": "python"
    }
  },
  "nbformat": 4,
  "nbformat_minor": 0
}