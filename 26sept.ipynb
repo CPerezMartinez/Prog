{
  "nbformat": 4,
  "nbformat_minor": 0,
  "metadata": {
    "colab": {
      "provenance": [],
      "authorship_tag": "ABX9TyMkJxCaON/k9CukPhWBv/0I",
      "include_colab_link": true
    },
    "kernelspec": {
      "name": "python3",
      "display_name": "Python 3"
    },
    "language_info": {
      "name": "python"
    }
  },
  "cells": [
    {
      "cell_type": "markdown",
      "metadata": {
        "id": "view-in-github",
        "colab_type": "text"
      },
      "source": [
        "<a href=\"https://colab.research.google.com/github/CPerezMartinez/prog/blob/main/26sept.ipynb\" target=\"_parent\"><img src=\"https://colab.research.google.com/assets/colab-badge.svg\" alt=\"Open In Colab\"/></a>"
      ]
    },
    {
      "cell_type": "code",
      "execution_count": null,
      "metadata": {
        "colab": {
          "base_uri": "https://localhost:8080/"
        },
        "id": "0bd0WOGhH_FQ",
        "outputId": "8b8eb3ac-91bb-49ab-a97f-936c2bedc902"
      },
      "outputs": [
        {
          "output_type": "stream",
          "name": "stdout",
          "text": [
            "Hola món\n"
          ]
        }
      ],
      "source": [
        "print(\"Hola món\")"
      ]
    },
    {
      "cell_type": "code",
      "source": [
        "x= \"Hola món\"\n",
        "print(x)"
      ],
      "metadata": {
        "colab": {
          "base_uri": "https://localhost:8080/"
        },
        "id": "B0Ol-PZXIde-",
        "outputId": "ceb07354-e097-40ec-f8aa-002149c70aae"
      },
      "execution_count": null,
      "outputs": [
        {
          "output_type": "stream",
          "name": "stdout",
          "text": [
            "Hola món\n"
          ]
        }
      ]
    },
    {
      "cell_type": "markdown",
      "source": [
        "Una botiga de joguines té molt èxit en dos dels seus productes: nines i pallassos. acostuma a fer venda per correu i empresa de logistica els cobra pel pes de cada joguina, així doncs han de calcular el pes dels pallassos i nines que s'enviaran a cada paquet a demanda. Cada pajaso pesa 112 g, i cada nina 75g. Fes un programa que llegeixi el nom de pallassos i nines venuts en la darrera comanda i el preu total de la comanda."
      ],
      "metadata": {
        "id": "qSQgNtsCJG8q"
      }
    },
    {
      "cell_type": "code",
      "source": [
        "nines_pes= 75 #grams\n",
        "pallassos_pes= 112 #grams\n",
        "nines_venudes=int(input(\"Nº de nines venudes?\"))\n",
        "print(nines_venudes)\n",
        "pallassos_venuts=int(input(\"Nº de pallassos venuts?\"))\n",
        "print(pallassos_venuts)\n",
        "total_u=pallassos_venuts*pallassos_pes\n",
        "total_dos=nines_pes*nines_venudes\n",
        "print(total_u+total_dos)\n"
      ],
      "metadata": {
        "colab": {
          "base_uri": "https://localhost:8080/"
        },
        "id": "CTg9fBN-M-mf",
        "outputId": "5d911f0e-7314-4a92-f18c-3cbf5883efec"
      },
      "execution_count": null,
      "outputs": [
        {
          "output_type": "stream",
          "name": "stdout",
          "text": [
            "Nº de nines venudes?4\n",
            "4\n",
            "Nº de pallassos venuts?8\n",
            "8\n",
            "1196\n"
          ]
        }
      ]
    },
    {
      "cell_type": "code",
      "source": [
        "nom=input(\"Com et dius?\")\n",
        "print(f'Benvingut', nom)\n"
      ],
      "metadata": {
        "colab": {
          "base_uri": "https://localhost:8080/"
        },
        "id": "ajlr_mjGK7yT",
        "outputId": "69e0e513-d27c-4154-8142-1a6d544d87e1"
      },
      "execution_count": null,
      "outputs": [
        {
          "output_type": "stream",
          "name": "stdout",
          "text": [
            "Com et dius?Pepa\n",
            "Benvingut Pepa\n"
          ]
        }
      ]
    }
  ]
}